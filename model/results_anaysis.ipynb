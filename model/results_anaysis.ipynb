{
 "cells": [
  {
   "cell_type": "code",
   "execution_count": 1,
   "metadata": {},
   "outputs": [],
   "source": [
    "import pandas as pd\n",
    "import numpy as np\n",
    "import seaborn as sns\n",
    "import matplotlib.pyplot as plt\n",
    "import plotly.plotly as py\n",
    "import plotly.graph_objs as go\n",
    "import plotly.figure_factory as ff\n",
    "import matplotlib.ticker as mtick\n",
    "results_notNoised = stddevs_notNoised = means_notNoised = []\n",
    "results_Noised = stddevs_Noised = means_Noised = []"
   ]
  },
  {
   "cell_type": "code",
   "execution_count": 241,
   "metadata": {},
   "outputs": [
    {
     "name": "stdout",
     "output_type": "stream",
     "text": [
      "0.0003963828285213446\n",
      "0.0020708453306583488\n",
      "0.001679676910565967\n",
      "0.001674362213100294\n",
      "0.0011288460564793843\n",
      "0.0009589666609831014\n",
      "0.000963845398923523\n",
      "0.0013471442578318518\n",
      "0.0011605178819063\n"
     ]
    }
   ],
   "source": [
    "stddevs = []\n",
    "means = []\n",
    "results = []\n",
    "fig, ax = plt.subplots(3, 3)\n",
    "plt.subplots_adjust(top=2, bottom=0.3, left=0.2, right=1.7, hspace=0.5,\n",
    "                    wspace=0.35)\n",
    "\n",
    "counter = 0\n",
    "for i in [2, 4, 8, 16, 32, 64, 128, 256, 512]:\n",
    "    axis = ax[counter//3][counter%3]\n",
    "    counter += 1\n",
    "    result = pd.read_csv(\"./Results/CAE/Damavand/Not Noised/encoded_results_0.01_{0}.csv\".format(i), header=None)\n",
    "#     result *= 1000\n",
    "    sns.distplot(result, ax=axis, hist=False)\n",
    "    axis.set_xlabel(\"MSE\")\n",
    "    axis.set_ylabel(\"Density\")\n",
    "    axis.set_title(\"k = {0} (Noised)\".format(i))\n",
    "    axis.yaxis.set_major_formatter(mtick.FormatStrFormatter('%.3f'))\n",
    "#     axis.set_xlim(0, 0.01)\n",
    "#     plt.title(\"Distribution for k = {0} features (stddev = 0.01)\".format(i))\n",
    "#     plt.savefig(\"./Results/CAE/Plots/dist_{0}_{1}.png\".format(i, 0.01))\n",
    "#     results_Noised.append(result.as_matrix())\n",
    "#     stddevs_Noised.append(float(result.std()))\n",
    "#     means_Noised.append(float(result.mean()))\n",
    "    print(float(result.std()))\n",
    "#     print(\"*\" * 100)\n",
    "#     print(stddevs_Noised)\n",
    "    \n",
    "#     plt.show()\n",
    "#     plt.close()\n",
    "# plt.show()\n",
    "# print(len(stddevs_Noised))"
   ]
  },
  {
   "cell_type": "code",
   "execution_count": 300,
   "metadata": {},
   "outputs": [],
   "source": [
    "stddevs_Noised = [2.8435347497355513e-06,\n",
    "1.5554714279757235e-06,\n",
    "1.1143827715404431e-05,\n",
    "1.8232802525185423e-06,\n",
    "3.884619818057103e-06,\n",
    "1.7036812521914786e-06,\n",
    "2.421802745935197e-06,\n",
    "2.795630126148747e-06,\n",
    "5.5744673296210184e-06]\n",
    "means_Noised = [0.002912763851428054,\n",
    "0.0025378024576857322,\n",
    "0.0022574064646258794,\n",
    "0.002012189038682105,\n",
    "0.0018922037311414647,\n",
    "0.0018188899040380221,\n",
    "0.0017663696144868187,\n",
    "0.0017623889679081995,\n",
    "0.0017410365731999448]\n",
    "stddevs_notNoised = [0.0003963828285213446,\n",
    "0.0020708453306583488,\n",
    "0.001679676910565967,\n",
    "0.001674362213100294,\n",
    "0.0011288460564793843,\n",
    "0.0009589666609831014,\n",
    "0.000963845398923523,\n",
    "0.0013471442578318518,\n",
    "0.0011605178819063\n",
    "]\n",
    "means_notNoised = [0.22548357228751742,\n",
    "0.20736051241287834,\n",
    "0.13623937950810083,\n",
    "0.09123128155271285,\n",
    "0.05371212005235773,\n",
    "0.030780418614815723,\n",
    "0.025242954433136327,\n",
    "0.024470812720814993,\n",
    "0.022191869716543588]"
   ]
  },
  {
   "cell_type": "code",
   "execution_count": 199,
   "metadata": {},
   "outputs": [
    {
     "data": {
      "text/html": [
       "<iframe id=\"igraph\" scrolling=\"no\" style=\"border:none;\" seamless=\"seamless\" src=\"https://plot.ly/~mn7697np/24.embed\" height=\"525px\" width=\"100%\"></iframe>"
      ],
      "text/plain": [
       "<plotly.tools.PlotlyDisplay object>"
      ]
     },
     "execution_count": 199,
     "metadata": {},
     "output_type": "execute_result"
    }
   ],
   "source": [
    "x = [2, 4, 8, 16, 32, 64, 128, 256, 512]\n",
    "data = [\n",
    "    go.Scatter(\n",
    "        x=x,\n",
    "        y=means,\n",
    "        error_y=dict(\n",
    "            type='data',\n",
    "            array=stddevs,\n",
    "            visible=True\n",
    "        )\n",
    "    )\n",
    "]\n",
    "\n",
    "py.iplot(data, filename='basic-error-bar')"
   ]
  },
  {
   "cell_type": "code",
   "execution_count": 299,
   "metadata": {},
   "outputs": [],
   "source": [
    "# for i in range(len(results)):\n",
    "#     results[i] = results[i][~np.isnan(results[i])]\n",
    "\n",
    "# group_labels = [str(x_i) for x_i in x]\n",
    "# fig = ff.create_distplot(results, group_labels, bin_size=.2)\n",
    "# py.iplot(fig)"
   ]
  },
  {
   "cell_type": "code",
   "execution_count": 298,
   "metadata": {},
   "outputs": [],
   "source": [
    "# data = [\n",
    "#     go.Scatter(\n",
    "#         x=x,\n",
    "#         y=means,\n",
    "#         error_y=dict(\n",
    "#             type='data',\n",
    "#             symmetric=False,\n",
    "#             array=stddevs,\n",
    "#             arrayminus=stddevs\n",
    "#         )\n",
    "#     )\n",
    "# ]\n",
    "\n",
    "# layout= go.Layout(\n",
    "#     xaxis= dict(\n",
    "#         title= '# of selected features',\n",
    "#         ticklen= 5,\n",
    "#         zeroline= False,\n",
    "#         gridwidth= 2,\n",
    "#     ),\n",
    "#     yaxis=dict(\n",
    "#         title= 'MSE +/- stddev',\n",
    "#         ticklen= 5,\n",
    "#         gridwidth= 2,\n",
    "#     ),\n",
    "#     showlegend= False\n",
    "# )\n",
    "# fig= go.Figure(data=data, layout=layout)\n",
    "# py.iplot(fig)\n",
    "\n"
   ]
  },
  {
   "cell_type": "code",
   "execution_count": 76,
   "metadata": {},
   "outputs": [],
   "source": [
    "import shap\n",
    "code_layer = pd.read_csv(\"./Results/CAE/old/encoded_scae_dropout.csv\", header=None)\n",
    "shap_values = pd.read_csv('./dec_shap_values.csv', header=None)\n",
    "# shap.summary_plot(shap_values.as_matrix())"
   ]
  },
  {
   "cell_type": "code",
   "execution_count": 301,
   "metadata": {},
   "outputs": [],
   "source": [
    "stddevs_Noised = np.multiply(7, stddevs_Noised)\n",
    "stddevs_notNoised = np.multiply(7, stddevs_notNoised)"
   ]
  },
  {
   "cell_type": "code",
   "execution_count": 302,
   "metadata": {},
   "outputs": [
    {
     "data": {
      "image/png": "[encoded data removed]",
      "text/plain": [
       "<Figure size 432x288 with 2 Axes>"
      ]
     },
     "metadata": {},
     "output_type": "display_data"
    }
   ],
   "source": [
    "fig, ax = plt.subplots(1, 2)\n",
    "fig.subplots_adjust(wspace=.5, right=1)\n",
    "\n",
    "ax[0].errorbar(x, means_Noised, yerr=stddevs_Noised, fmt='-o', ecolor='r')\n",
    "ax[0].set_xlabel(\"# of features\")\n",
    "ax[0].set_ylabel(\"mean +/- stddev\")\n",
    "\n",
    "ax[1].errorbar(x, means_notNoised, yerr=stddevs_notNoised, fmt='-o', ecolor='r', capthick=1)\n",
    "ax[1].set_xlabel(\"# of features\")\n",
    "ax[1].set_ylabel(\"mean +/- stddev\")\n",
    "\n",
    "plt.show()"
   ]
  },
  {
   "cell_type": "code",
   "execution_count": 15,
   "metadata": {},
   "outputs": [],
   "source": [
    "import keras\n",
    "from keras.models import Model\n",
    "from keras.layers import Input, Dense, GaussianNoise, Dropout, BatchNormalization, GaussianDropout\n",
    "import keras.backend as backend\n",
    "\n",
    "\n",
    "n_random_features = 2"
   ]
  },
  {
   "cell_type": "code",
   "execution_count": 8,
   "metadata": {},
   "outputs": [
    {
     "data": {
      "text/plain": [
       "(10787, 19671)"
      ]
     },
     "execution_count": 8,
     "metadata": {},
     "output_type": "execute_result"
    }
   ],
   "source": [
    "m_rna = [[0 for _ in range(19671)] for _ in range(10787)]\n",
    "m_rna = pd.DataFrame(m_rna)\n",
    "m_rna.shape"
   ]
  },
  {
   "cell_type": "code",
   "execution_count": 16,
   "metadata": {},
   "outputs": [],
   "source": [
    "def create_model():\n",
    "    inputs = Input(shape=(n_random_features,), name=\"inputs\")\n",
    "    inputs_noise = GaussianNoise(stddev=0.025)(inputs)\n",
    "    inputs_noise = GaussianDropout(rate=0.025 ** 2 / (1 + 0.025 ** 2))(inputs_noise)\n",
    "    inputs_0 = BatchNormalization(name=\"inputs_0\")(inputs_noise)\n",
    "    inputs_0 = Dropout(rate=0.0, name='dropout_1')(inputs_0)\n",
    "    inputs_1 = Dense(1024, activation=\"softplus\", name=\"inputs_1\")(inputs_0)\n",
    "    inputs_2 = BatchNormalization(name=\"inputs_2\")(inputs_1)\n",
    "    inputs_2 = Dropout(rate=0.0, name='dropout_2')(inputs_2)\n",
    "    inputs_3 = Dense(256, activation=\"softplus\", name=\"inputs_3\")(inputs_2)\n",
    "    inputs_4 = BatchNormalization(name=\"inputs_4\")(inputs_3)\n",
    "    inputs_4 = Dropout(rate=0.25, name='dropout_3')(inputs_4)\n",
    "\n",
    "    encoded = Dense(units=12, activation='sigmoid', name='encoded')(inputs_4)\n",
    "    encoded_noise = GaussianNoise(0.025)(encoded)\n",
    "\n",
    "    # encoded_softmax = Dense(units=12, activation='softmax', name='encoded_softmax')(encoded)\n",
    "    # encoded_attention = multiply([encoded, encoded_softmax])\n",
    "\n",
    "    inputs_5 = Dense(512, activation=\"linear\", name=\"inputs_5\")(encoded_noise)\n",
    "    inputs_5 = Dropout(rate=0.25, name='dropout_4')(inputs_5)\n",
    "\n",
    "    decoded_tcga = Dense(units=m_rna.shape[1], activation='relu', name=\"m_rna\")(inputs_5)\n",
    "    cl_2 = Dense(units=34, activation=\"softmax\", name=\"cl_disease\")(encoded_noise)\n",
    "\n",
    "    scae = Model(inputs=inputs, outputs=[decoded_tcga, cl_2])\n",
    "\n",
    "    lambda_value = 9.5581e-3\n",
    "\n",
    "    def contractive_loss(y_pred, y_true):\n",
    "        mse = backend.mean(backend.square(y_true - y_pred), axis=1)\n",
    "\n",
    "        w = backend.variable(value=scae.get_layer('encoded').get_weights()[0])  # N inputs N_hidden\n",
    "        w = backend.transpose(w)  # N_hidden inputs N\n",
    "        h = scae.get_layer('encoded').output\n",
    "        dh = h * (1 - h)  # N_batch inputs N_hidden\n",
    "\n",
    "        # N_batch inputs N_hidden * N_hidden inputs 1 = N_batch inputs 1\n",
    "        contractive = lambda_value * backend.sum(dh ** 2 * backend.sum(w ** 2, axis=1), axis=1)\n",
    "\n",
    "        return mse + contractive\n",
    "\n",
    "    # scae.compile(optimizer='nadam',\n",
    "    #              loss=[contractive_loss, \"mse\", \"cosine_proximity\", \"cosine_proximity\"],\n",
    "    #              loss_weights=[0.001, 0.001, 0.5, 0.5],\n",
    "    #              metrics={\"m_rna\": [\"mae\", \"mse\"], \"mi_rna\": [\"mae\", \"mse\"], \"cl_tissue\": \"acc\",\n",
    "    #                       \"cl_disease\": \"acc\"})\n",
    "\n",
    "    scae.compile(optimizer='nadam',\n",
    "                 loss=[contractive_loss, \"mse\"],\n",
    "                 loss_weights=[0.001, 0.001],\n",
    "                 metrics={\"m_rna\": [\"mae\", \"mse\"], \"cl_disease\": \"acc\"})\n",
    "\n",
    "    return scae\n",
    "\n",
    "model = create_model()"
   ]
  },
  {
   "cell_type": "code",
   "execution_count": 17,
   "metadata": {},
   "outputs": [],
   "source": [
    "model.load_weights(\"./model_weights.h5\")"
   ]
  },
  {
   "cell_type": "code",
   "execution_count": 54,
   "metadata": {},
   "outputs": [],
   "source": [
    "weights = np.array(model.get_weights())"
   ]
  },
  {
   "cell_type": "code",
   "execution_count": 73,
   "metadata": {},
   "outputs": [],
   "source": [
    "# weights = pd.DataFrame(weights)\n",
    "new_weights = []\n",
    "for i in range(weights.shape[0]):\n",
    "    new_weights.append(list(weights[i].flatten()))"
   ]
  },
  {
   "cell_type": "code",
   "execution_count": 86,
   "metadata": {},
   "outputs": [
    {
     "data": {
      "text/html": [
       "<div>\n",
       "<style scoped>\n",
       "    .dataframe tbody tr th:only-of-type {\n",
       "        vertical-align: middle;\n",
       "    }\n",
       "\n",
       "    .dataframe tbody tr th {\n",
       "        vertical-align: top;\n",
       "    }\n",
       "\n",
       "    .dataframe thead th {\n",
       "        text-align: right;\n",
       "    }\n",
       "</style>\n",
       "<table border=\"1\" class=\"dataframe\">\n",
       "  <thead>\n",
       "    <tr style=\"text-align: right;\">\n",
       "      <th></th>\n",
       "      <th>0</th>\n",
       "    </tr>\n",
       "  </thead>\n",
       "  <tbody>\n",
       "    <tr>\n",
       "      <th>count</th>\n",
       "      <td>1.037200e+07</td>\n",
       "    </tr>\n",
       "    <tr>\n",
       "      <th>mean</th>\n",
       "      <td>3.658574e-04</td>\n",
       "    </tr>\n",
       "    <tr>\n",
       "      <th>std</th>\n",
       "      <td>4.101571e-02</td>\n",
       "    </tr>\n",
       "    <tr>\n",
       "      <th>min</th>\n",
       "      <td>-1.430881e+00</td>\n",
       "    </tr>\n",
       "    <tr>\n",
       "      <th>25%</th>\n",
       "      <td>-8.355156e-03</td>\n",
       "    </tr>\n",
       "    <tr>\n",
       "      <th>50%</th>\n",
       "      <td>3.096962e-05</td>\n",
       "    </tr>\n",
       "    <tr>\n",
       "      <th>75%</th>\n",
       "      <td>8.397587e-03</td>\n",
       "    </tr>\n",
       "    <tr>\n",
       "      <th>max</th>\n",
       "      <td>2.326126e+01</td>\n",
       "    </tr>\n",
       "  </tbody>\n",
       "</table>\n",
       "</div>"
      ],
      "text/plain": [
       "                  0\n",
       "count  1.037200e+07\n",
       "mean   3.658574e-04\n",
       "std    4.101571e-02\n",
       "min   -1.430881e+00\n",
       "25%   -8.355156e-03\n",
       "50%    3.096962e-05\n",
       "75%    8.397587e-03\n",
       "max    2.326126e+01"
      ]
     },
     "execution_count": 86,
     "metadata": {},
     "output_type": "execute_result"
    }
   ],
   "source": [
    "flat_list = []\n",
    "for sublist in new_weights:\n",
    "    for item in sublist:\n",
    "        flat_list.append(item)\n",
    "weights = pd.DataFrame(flat_list)\n",
    "weights.describe()"
   ]
  },
  {
   "cell_type": "code",
   "execution_count": 87,
   "metadata": {},
   "outputs": [
    {
     "data": {
      "image/png": "[encoded data removed]",
      "text/plain": [
       "<Figure size 720x720 with 1 Axes>"
      ]
     },
     "metadata": {},
     "output_type": "display_data"
    }
   ],
   "source": [
    "plt.figure(figsize=(10, 10))\n",
    "sns.distplot(weights, hist=False)\n",
    "# plt.xlim(-1, 1)\n",
    "plt.show()"
   ]
  }
 ],
 "metadata": {
  "kernelspec": {
   "display_name": "Python 3",
   "language": "python",
   "name": "python3"
  },
  "language_info": {
   "codemirror_mode": {
    "name": "ipython",
    "version": 3
   },
   "file_extension": ".py",
   "mimetype": "text/x-python",
   "name": "python",
   "nbconvert_exporter": "python",
   "pygments_lexer": "ipython3",
   "version": "3.6.4"
  }
 },
 "nbformat": 4,
 "nbformat_minor": 2
}
