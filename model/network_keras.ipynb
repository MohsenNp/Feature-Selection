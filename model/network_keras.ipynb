{
 "cells": [
  {
   "cell_type": "code",
   "execution_count": 128,
   "metadata": {
    "collapsed": true
   },
   "outputs": [
    {
     "data": {
      "text/plain": [
       "'\\n    Created by Mohsen Naghipourfar on 3/26/18.\\n    Email : mn7697np@gmail.com\\n    Website: http://ce.sharif.edu/~naghipourfar\\n'"
      ]
     },
     "execution_count": 128,
     "metadata": {},
     "output_type": "execute_result"
    }
   ],
   "source": [
    "import numpy as np\n",
    "import pandas as pd\n",
    "\n",
    "import tensorflow as tf\n",
    "import matplotlib.pyplot as plt\n",
    "import keras \n",
    "\n",
    "from keras.callbacks import ModelCheckpoint\n",
    "from keras.layers import Input, Dense, Dropout\n",
    "from keras.models import Model\n",
    "from sklearn.model_selection import train_test_split\n",
    "\n",
    "\"\"\"\n",
    "    Created by Mohsen Naghipourfar on 3/26/18.\n",
    "    Email : mn7697np@gmail.com\n",
    "    Website: http://ce.sharif.edu/~naghipourfar\n",
    "\"\"\""
   ]
  },
  {
   "cell_type": "code",
   "execution_count": 129,
   "metadata": {},
   "outputs": [],
   "source": [
    "# Hyper-Parameters\n",
    "LEARNING_RATE = 1e-3\n",
    "DROP_OUT = 0.5\n",
    "N_SAMPLES = 10787\n",
    "N_FEATURES = 19671\n",
    "N_DISEASES = 34\n",
    "N_BATCHES = 256\n",
    "N_EPOCHS = 50\n",
    "N_BATCH_LEARN = 10\n",
    "N_RANDOM_FEATURES = 200\n",
    "neurons = {\n",
    "    'in': 200,\n",
    "    'l1': 1024,\n",
    "    'l2': 512,\n",
    "    'l3': 256,\n",
    "    'l4': 128,\n",
    "    'out': N_DISEASES\n",
    "}\n"
   ]
  },
  {
   "cell_type": "code",
   "execution_count": 117,
   "metadata": {},
   "outputs": [],
   "source": [
    "def modify_output(target):\n",
    "    global N_DISEASES\n",
    "    output_dict = {}\n",
    "    a = target[0].value_counts()\n",
    "    # print(a)\n",
    "    a = pd.DataFrame(a)\n",
    "    i = 0\n",
    "    for row in a.itertuples():\n",
    "        output_dict[row[0]] = i\n",
    "        i += 1\n",
    "    N_DISEASES = i\n",
    "    new_output = [0 for __ in range(N_SAMPLES)]\n",
    "#     new_output = [[0 for _ in range(N_DISEASES)] for __ in range(N_SAMPLES)]\n",
    "    for idx, y in target.iterrows():\n",
    "#         new_output[idx][output_dict[y[0]]] = 1\n",
    "        new_output[idx] = output_dict[y[0]]\n",
    "    return new_output"
   ]
  },
  {
   "cell_type": "code",
   "execution_count": 118,
   "metadata": {},
   "outputs": [],
   "source": [
    "# Load Data\n",
    "x_data = pd.read_csv(\"../Data/fpkm_normalized.csv\", header=None)\n",
    "# y_data = pd.read_csv(\"../Data/disease.csv\", header=None)\n",
    "# y_data = pd.DataFrame(modify_output(y_data))"
   ]
  },
  {
   "cell_type": "code",
   "execution_count": 119,
   "metadata": {},
   "outputs": [],
   "source": [
    "y_data = pd.read_csv(\"../Data/disease.csv\", header=None)\n",
    "y_data = pd.DataFrame(modify_output(y_data))\n",
    "y_data = pd.DataFrame(keras.utils.to_categorical(y_data, num_classes=N_DISEASES))"
   ]
  },
  {
   "cell_type": "code",
   "execution_count": 120,
   "metadata": {},
   "outputs": [],
   "source": [
    "# Random Feature Selection\n",
    "random_feature_indices = np.random.choice(19671, N_RANDOM_FEATURES, replace=False)\n",
    "x_data_new = x_data[random_feature_indices]\n",
    "\n",
    "# Train/Test Split\n",
    "x_train, x_test, y_train, y_test = train_test_split(x_data_new, y_data, test_size=0.20)"
   ]
  },
  {
   "cell_type": "code",
   "execution_count": 44,
   "metadata": {},
   "outputs": [
    {
     "data": {
      "text/plain": [
       "False"
      ]
     },
     "execution_count": 44,
     "metadata": {},
     "output_type": "execute_result"
    }
   ],
   "source": [
    "# x_train.columns = range(x_train.shape[1])\n",
    "# x_test.columns = range(x_test.shape[1])"
   ]
  },
  {
   "cell_type": "code",
   "execution_count": 130,
   "metadata": {},
   "outputs": [
    {
     "name": "stdout",
     "output_type": "stream",
     "text": [
      "_________________________________________________________________\n",
      "Layer (type)                 Output Shape              Param #   \n",
      "=================================================================\n",
      "input_10 (InputLayer)        (None, 200)               0         \n",
      "_________________________________________________________________\n",
      "dense_46 (Dense)             (None, 1024)              205824    \n",
      "_________________________________________________________________\n",
      "dropout_1 (Dropout)          (None, 1024)              0         \n",
      "_________________________________________________________________\n",
      "dense_47 (Dense)             (None, 512)               524800    \n",
      "_________________________________________________________________\n",
      "dropout_2 (Dropout)          (None, 512)               0         \n",
      "_________________________________________________________________\n",
      "dense_48 (Dense)             (None, 256)               131328    \n",
      "_________________________________________________________________\n",
      "dropout_3 (Dropout)          (None, 256)               0         \n",
      "_________________________________________________________________\n",
      "dense_49 (Dense)             (None, 128)               32896     \n",
      "_________________________________________________________________\n",
      "dropout_4 (Dropout)          (None, 128)               0         \n",
      "_________________________________________________________________\n",
      "dense_50 (Dense)             (None, 34)                4386      \n",
      "=================================================================\n",
      "Total params: 899,234\n",
      "Trainable params: 899,234\n",
      "Non-trainable params: 0\n",
      "_________________________________________________________________\n"
     ]
    },
    {
     "name": "stderr",
     "output_type": "stream",
     "text": [
      "/Users/Future/anaconda/lib/python3.6/site-packages/tensorflow/python/util/tf_inspect.py:45: DeprecationWarning: inspect.getargspec() is deprecated, use inspect.signature() or inspect.getfullargspec()\n",
      "  if d.decorator_argspec is not None), _inspect.getargspec(target))\n",
      "/Users/Future/anaconda/lib/python3.6/site-packages/tensorflow/python/util/tf_inspect.py:45: DeprecationWarning: inspect.getargspec() is deprecated, use inspect.signature() or inspect.getfullargspec()\n",
      "  if d.decorator_argspec is not None), _inspect.getargspec(target))\n",
      "/Users/Future/anaconda/lib/python3.6/site-packages/tensorflow/python/util/tf_inspect.py:45: DeprecationWarning: inspect.getargspec() is deprecated, use inspect.signature() or inspect.getfullargspec()\n",
      "  if d.decorator_argspec is not None), _inspect.getargspec(target))\n",
      "/Users/Future/anaconda/lib/python3.6/site-packages/tensorflow/python/util/tf_inspect.py:45: DeprecationWarning: inspect.getargspec() is deprecated, use inspect.signature() or inspect.getfullargspec()\n",
      "  if d.decorator_argspec is not None), _inspect.getargspec(target))\n",
      "/Users/Future/anaconda/lib/python3.6/site-packages/tensorflow/python/util/tf_inspect.py:45: DeprecationWarning: inspect.getargspec() is deprecated, use inspect.signature() or inspect.getfullargspec()\n",
      "  if d.decorator_argspec is not None), _inspect.getargspec(target))\n",
      "/Users/Future/anaconda/lib/python3.6/site-packages/tensorflow/python/util/tf_inspect.py:45: DeprecationWarning: inspect.getargspec() is deprecated, use inspect.signature() or inspect.getfullargspec()\n",
      "  if d.decorator_argspec is not None), _inspect.getargspec(target))\n",
      "/Users/Future/anaconda/lib/python3.6/site-packages/tensorflow/python/util/tf_inspect.py:45: DeprecationWarning: inspect.getargspec() is deprecated, use inspect.signature() or inspect.getfullargspec()\n",
      "  if d.decorator_argspec is not None), _inspect.getargspec(target))\n",
      "/Users/Future/anaconda/lib/python3.6/site-packages/tensorflow/python/util/tf_inspect.py:45: DeprecationWarning: inspect.getargspec() is deprecated, use inspect.signature() or inspect.getfullargspec()\n",
      "  if d.decorator_argspec is not None), _inspect.getargspec(target))\n",
      "/Users/Future/anaconda/lib/python3.6/site-packages/tensorflow/python/util/tf_inspect.py:45: DeprecationWarning: inspect.getargspec() is deprecated, use inspect.signature() or inspect.getfullargspec()\n",
      "  if d.decorator_argspec is not None), _inspect.getargspec(target))\n",
      "/Users/Future/anaconda/lib/python3.6/site-packages/tensorflow/python/util/tf_inspect.py:45: DeprecationWarning: inspect.getargspec() is deprecated, use inspect.signature() or inspect.getfullargspec()\n",
      "  if d.decorator_argspec is not None), _inspect.getargspec(target))\n",
      "/Users/Future/anaconda/lib/python3.6/site-packages/tensorflow/python/util/tf_inspect.py:45: DeprecationWarning: inspect.getargspec() is deprecated, use inspect.signature() or inspect.getfullargspec()\n",
      "  if d.decorator_argspec is not None), _inspect.getargspec(target))\n",
      "/Users/Future/anaconda/lib/python3.6/site-packages/tensorflow/python/util/tf_inspect.py:45: DeprecationWarning: inspect.getargspec() is deprecated, use inspect.signature() or inspect.getfullargspec()\n",
      "  if d.decorator_argspec is not None), _inspect.getargspec(target))\n",
      "/Users/Future/anaconda/lib/python3.6/site-packages/tensorflow/python/util/tf_inspect.py:45: DeprecationWarning: inspect.getargspec() is deprecated, use inspect.signature() or inspect.getfullargspec()\n",
      "  if d.decorator_argspec is not None), _inspect.getargspec(target))\n"
     ]
    }
   ],
   "source": [
    "# Design Model\n",
    "input_layer = Input(shape=(neurons['in'],))\n",
    "\n",
    "l1 = Dense(neurons['l1'], activation='relu')(input_layer)\n",
    "\n",
    "l1_dropout = Dropout(DROP_OUT)(l1)\n",
    "\n",
    "l2 = Dense(neurons['l2'], activation='relu')(l1_dropout)\n",
    "\n",
    "l2_dropout = Dropout(DROP_OUT)(l2)\n",
    "\n",
    "l3 = Dense(neurons['l3'], activation='relu')(l2_dropout)\n",
    "\n",
    "l3_dropout = Dropout(DROP_OUT)(l3)\n",
    "\n",
    "l4 = Dense(neurons['l4'], activation='relu')(l3_dropout)\n",
    "\n",
    "l4_dropout = Dropout(DROP_OUT)(l4)\n",
    "\n",
    "output_layer = Dense(neurons['out'], activation='softmax')(l4_dropout)\n",
    "\n",
    "# Compile Model\n",
    "network = Model(input_layer, output_layer)\n",
    "\n",
    "network.compile(optimizer='adam', loss='categorical_crossentropy', metrics=['accuracy'])\n",
    "\n",
    "network.summary()"
   ]
  },
  {
   "cell_type": "code",
   "execution_count": 51,
   "metadata": {},
   "outputs": [],
   "source": [
    "from keras.callbacks import Callback\n",
    "class TestCallback(Callback):\n",
    "    def __init__(self, test_data):\n",
    "        self.test_data = test_data\n",
    "\n",
    "    def on_epoch_end(self, epoch, logs={}):\n",
    "        x, y = self.test_data\n",
    "        loss, acc = self.model.evaluate(x, y, verbose=0)\n",
    "        print('\\nTesting loss: {}, acc: {}\\n'.format(loss, acc))"
   ]
  },
  {
   "cell_type": "code",
   "execution_count": 131,
   "metadata": {},
   "outputs": [
    {
     "name": "stderr",
     "output_type": "stream",
     "text": [
      "/Users/Future/anaconda/lib/python3.6/site-packages/tensorflow/python/util/tf_inspect.py:45: DeprecationWarning: inspect.getargspec() is deprecated, use inspect.signature() or inspect.getfullargspec()\n",
      "  if d.decorator_argspec is not None), _inspect.getargspec(target))\n",
      "/Users/Future/anaconda/lib/python3.6/site-packages/tensorflow/python/util/tf_inspect.py:45: DeprecationWarning: inspect.getargspec() is deprecated, use inspect.signature() or inspect.getfullargspec()\n",
      "  if d.decorator_argspec is not None), _inspect.getargspec(target))\n",
      "/Users/Future/anaconda/lib/python3.6/site-packages/tensorflow/python/util/tf_inspect.py:45: DeprecationWarning: inspect.getargspec() is deprecated, use inspect.signature() or inspect.getfullargspec()\n",
      "  if d.decorator_argspec is not None), _inspect.getargspec(target))\n",
      "/Users/Future/anaconda/lib/python3.6/site-packages/tensorflow/python/util/tf_inspect.py:45: DeprecationWarning: inspect.getargspec() is deprecated, use inspect.signature() or inspect.getfullargspec()\n",
      "  if d.decorator_argspec is not None), _inspect.getargspec(target))\n",
      "/Users/Future/anaconda/lib/python3.6/site-packages/tensorflow/python/util/tf_inspect.py:45: DeprecationWarning: inspect.getargspec() is deprecated, use inspect.signature() or inspect.getfullargspec()\n",
      "  if d.decorator_argspec is not None), _inspect.getargspec(target))\n",
      "/Users/Future/anaconda/lib/python3.6/site-packages/tensorflow/python/util/tf_inspect.py:45: DeprecationWarning: inspect.getargspec() is deprecated, use inspect.signature() or inspect.getfullargspec()\n",
      "  if d.decorator_argspec is not None), _inspect.getargspec(target))\n",
      "/Users/Future/anaconda/lib/python3.6/site-packages/tensorflow/python/util/tf_inspect.py:45: DeprecationWarning: inspect.getargspec() is deprecated, use inspect.signature() or inspect.getfullargspec()\n",
      "  if d.decorator_argspec is not None), _inspect.getargspec(target))\n",
      "/Users/Future/anaconda/lib/python3.6/site-packages/tensorflow/python/util/tf_inspect.py:45: DeprecationWarning: inspect.getargspec() is deprecated, use inspect.signature() or inspect.getfullargspec()\n",
      "  if d.decorator_argspec is not None), _inspect.getargspec(target))\n",
      "/Users/Future/anaconda/lib/python3.6/site-packages/tensorflow/python/util/tf_inspect.py:45: DeprecationWarning: inspect.getargspec() is deprecated, use inspect.signature() or inspect.getfullargspec()\n",
      "  if d.decorator_argspec is not None), _inspect.getargspec(target))\n",
      "/Users/Future/anaconda/lib/python3.6/site-packages/tensorflow/python/util/tf_inspect.py:45: DeprecationWarning: inspect.getargspec() is deprecated, use inspect.signature() or inspect.getfullargspec()\n",
      "  if d.decorator_argspec is not None), _inspect.getargspec(target))\n",
      "/Users/Future/anaconda/lib/python3.6/site-packages/tensorflow/python/util/tf_inspect.py:45: DeprecationWarning: inspect.getargspec() is deprecated, use inspect.signature() or inspect.getfullargspec()\n",
      "  if d.decorator_argspec is not None), _inspect.getargspec(target))\n",
      "/Users/Future/anaconda/lib/python3.6/site-packages/tensorflow/python/util/tf_inspect.py:45: DeprecationWarning: inspect.getargspec() is deprecated, use inspect.signature() or inspect.getfullargspec()\n",
      "  if d.decorator_argspec is not None), _inspect.getargspec(target))\n",
      "/Users/Future/anaconda/lib/python3.6/site-packages/tensorflow/python/util/tf_inspect.py:45: DeprecationWarning: inspect.getargspec() is deprecated, use inspect.signature() or inspect.getfullargspec()\n",
      "  if d.decorator_argspec is not None), _inspect.getargspec(target))\n",
      "/Users/Future/anaconda/lib/python3.6/site-packages/tensorflow/python/util/tf_inspect.py:45: DeprecationWarning: inspect.getargspec() is deprecated, use inspect.signature() or inspect.getfullargspec()\n",
      "  if d.decorator_argspec is not None), _inspect.getargspec(target))\n",
      "/Users/Future/anaconda/lib/python3.6/site-packages/tensorflow/python/util/tf_inspect.py:45: DeprecationWarning: inspect.getargspec() is deprecated, use inspect.signature() or inspect.getfullargspec()\n",
      "  if d.decorator_argspec is not None), _inspect.getargspec(target))\n",
      "/Users/Future/anaconda/lib/python3.6/site-packages/tensorflow/python/util/tf_inspect.py:45: DeprecationWarning: inspect.getargspec() is deprecated, use inspect.signature() or inspect.getfullargspec()\n",
      "  if d.decorator_argspec is not None), _inspect.getargspec(target))\n",
      "/Users/Future/anaconda/lib/python3.6/site-packages/tensorflow/python/util/tf_inspect.py:45: DeprecationWarning: inspect.getargspec() is deprecated, use inspect.signature() or inspect.getfullargspec()\n",
      "  if d.decorator_argspec is not None), _inspect.getargspec(target))\n",
      "/Users/Future/anaconda/lib/python3.6/site-packages/tensorflow/python/util/tf_inspect.py:45: DeprecationWarning: inspect.getargspec() is deprecated, use inspect.signature() or inspect.getfullargspec()\n",
      "  if d.decorator_argspec is not None), _inspect.getargspec(target))\n",
      "/Users/Future/anaconda/lib/python3.6/site-packages/tensorflow/python/util/tf_inspect.py:45: DeprecationWarning: inspect.getargspec() is deprecated, use inspect.signature() or inspect.getfullargspec()\n",
      "  if d.decorator_argspec is not None), _inspect.getargspec(target))\n",
      "/Users/Future/anaconda/lib/python3.6/site-packages/tensorflow/python/util/tf_inspect.py:45: DeprecationWarning: inspect.getargspec() is deprecated, use inspect.signature() or inspect.getfullargspec()\n",
      "  if d.decorator_argspec is not None), _inspect.getargspec(target))\n",
      "/Users/Future/anaconda/lib/python3.6/site-packages/tensorflow/python/util/tf_inspect.py:45: DeprecationWarning: inspect.getargspec() is deprecated, use inspect.signature() or inspect.getfullargspec()\n",
      "  if d.decorator_argspec is not None), _inspect.getargspec(target))\n",
      "/Users/Future/anaconda/lib/python3.6/site-packages/tensorflow/python/util/tf_inspect.py:45: DeprecationWarning: inspect.getargspec() is deprecated, use inspect.signature() or inspect.getfullargspec()\n",
      "  if d.decorator_argspec is not None), _inspect.getargspec(target))\n",
      "/Users/Future/anaconda/lib/python3.6/site-packages/tensorflow/python/util/tf_inspect.py:45: DeprecationWarning: inspect.getargspec() is deprecated, use inspect.signature() or inspect.getfullargspec()\n",
      "  if d.decorator_argspec is not None), _inspect.getargspec(target))\n",
      "/Users/Future/anaconda/lib/python3.6/site-packages/tensorflow/python/util/tf_inspect.py:45: DeprecationWarning: inspect.getargspec() is deprecated, use inspect.signature() or inspect.getfullargspec()\n",
      "  if d.decorator_argspec is not None), _inspect.getargspec(target))\n",
      "/Users/Future/anaconda/lib/python3.6/site-packages/tensorflow/python/util/tf_inspect.py:45: DeprecationWarning: inspect.getargspec() is deprecated, use inspect.signature() or inspect.getfullargspec()\n",
      "  if d.decorator_argspec is not None), _inspect.getargspec(target))\n",
      "/Users/Future/anaconda/lib/python3.6/site-packages/tensorflow/python/util/tf_inspect.py:45: DeprecationWarning: inspect.getargspec() is deprecated, use inspect.signature() or inspect.getfullargspec()\n",
      "  if d.decorator_argspec is not None), _inspect.getargspec(target))\n",
      "/Users/Future/anaconda/lib/python3.6/site-packages/tensorflow/python/util/tf_inspect.py:45: DeprecationWarning: inspect.getargspec() is deprecated, use inspect.signature() or inspect.getfullargspec()\n",
      "  if d.decorator_argspec is not None), _inspect.getargspec(target))\n",
      "/Users/Future/anaconda/lib/python3.6/site-packages/tensorflow/python/util/tf_inspect.py:45: DeprecationWarning: inspect.getargspec() is deprecated, use inspect.signature() or inspect.getfullargspec()\n",
      "  if d.decorator_argspec is not None), _inspect.getargspec(target))\n",
      "/Users/Future/anaconda/lib/python3.6/site-packages/tensorflow/python/util/tf_inspect.py:45: DeprecationWarning: inspect.getargspec() is deprecated, use inspect.signature() or inspect.getfullargspec()\n",
      "  if d.decorator_argspec is not None), _inspect.getargspec(target))\n",
      "/Users/Future/anaconda/lib/python3.6/site-packages/tensorflow/python/util/tf_inspect.py:45: DeprecationWarning: inspect.getargspec() is deprecated, use inspect.signature() or inspect.getfullargspec()\n",
      "  if d.decorator_argspec is not None), _inspect.getargspec(target))\n",
      "/Users/Future/anaconda/lib/python3.6/site-packages/tensorflow/python/util/tf_inspect.py:45: DeprecationWarning: inspect.getargspec() is deprecated, use inspect.signature() or inspect.getfullargspec()\n",
      "  if d.decorator_argspec is not None), _inspect.getargspec(target))\n",
      "/Users/Future/anaconda/lib/python3.6/site-packages/tensorflow/python/util/tf_inspect.py:45: DeprecationWarning: inspect.getargspec() is deprecated, use inspect.signature() or inspect.getfullargspec()\n",
      "  if d.decorator_argspec is not None), _inspect.getargspec(target))\n",
      "/Users/Future/anaconda/lib/python3.6/site-packages/tensorflow/python/util/tf_inspect.py:45: DeprecationWarning: inspect.getargspec() is deprecated, use inspect.signature() or inspect.getfullargspec()\n",
      "  if d.decorator_argspec is not None), _inspect.getargspec(target))\n",
      "/Users/Future/anaconda/lib/python3.6/site-packages/tensorflow/python/util/tf_inspect.py:45: DeprecationWarning: inspect.getargspec() is deprecated, use inspect.signature() or inspect.getfullargspec()\n",
      "  if d.decorator_argspec is not None), _inspect.getargspec(target))\n",
      "/Users/Future/anaconda/lib/python3.6/site-packages/tensorflow/python/util/tf_inspect.py:45: DeprecationWarning: inspect.getargspec() is deprecated, use inspect.signature() or inspect.getfullargspec()\n",
      "  if d.decorator_argspec is not None), _inspect.getargspec(target))\n",
      "/Users/Future/anaconda/lib/python3.6/site-packages/tensorflow/python/util/tf_inspect.py:45: DeprecationWarning: inspect.getargspec() is deprecated, use inspect.signature() or inspect.getfullargspec()\n",
      "  if d.decorator_argspec is not None), _inspect.getargspec(target))\n",
      "/Users/Future/anaconda/lib/python3.6/site-packages/tensorflow/python/util/tf_inspect.py:45: DeprecationWarning: inspect.getargspec() is deprecated, use inspect.signature() or inspect.getfullargspec()\n",
      "  if d.decorator_argspec is not None), _inspect.getargspec(target))\n",
      "/Users/Future/anaconda/lib/python3.6/site-packages/tensorflow/python/util/tf_inspect.py:45: DeprecationWarning: inspect.getargspec() is deprecated, use inspect.signature() or inspect.getfullargspec()\n",
      "  if d.decorator_argspec is not None), _inspect.getargspec(target))\n",
      "/Users/Future/anaconda/lib/python3.6/site-packages/tensorflow/python/util/tf_inspect.py:45: DeprecationWarning: inspect.getargspec() is deprecated, use inspect.signature() or inspect.getfullargspec()\n",
      "  if d.decorator_argspec is not None), _inspect.getargspec(target))\n",
      "/Users/Future/anaconda/lib/python3.6/site-packages/tensorflow/python/util/tf_inspect.py:45: DeprecationWarning: inspect.getargspec() is deprecated, use inspect.signature() or inspect.getfullargspec()\n",
      "  if d.decorator_argspec is not None), _inspect.getargspec(target))\n",
      "/Users/Future/anaconda/lib/python3.6/site-packages/tensorflow/python/util/tf_inspect.py:45: DeprecationWarning: inspect.getargspec() is deprecated, use inspect.signature() or inspect.getfullargspec()\n",
      "  if d.decorator_argspec is not None), _inspect.getargspec(target))\n"
     ]
    },
    {
     "name": "stdout",
     "output_type": "stream",
     "text": [
      "Train on 8629 samples, validate on 2158 samples\n",
      "Epoch 1/50\n",
      "8629/8629 [==============================] - 2s - loss: 3.3167 - acc: 0.0986 - val_loss: 2.8929 - val_acc: 0.1747\n",
      "Epoch 2/50\n",
      "8629/8629 [==============================] - 0s - loss: 2.6518 - acc: 0.2584 - val_loss: 1.9047 - val_acc: 0.5042\n",
      "Epoch 3/50\n",
      "8629/8629 [==============================] - 0s - loss: 1.9330 - acc: 0.4641 - val_loss: 1.2142 - val_acc: 0.6789\n",
      "Epoch 4/50\n",
      "8629/8629 [==============================] - 0s - loss: 1.4143 - acc: 0.5988 - val_loss: 0.8884 - val_acc: 0.7549\n",
      "Epoch 5/50\n",
      "8629/8629 [==============================] - 0s - loss: 1.1221 - acc: 0.6735 - val_loss: 0.7198 - val_acc: 0.7859\n",
      "Epoch 6/50\n",
      "8629/8629 [==============================] - 0s - loss: 0.9753 - acc: 0.7110 - val_loss: 0.6170 - val_acc: 0.8137\n",
      "Epoch 7/50\n",
      "8629/8629 [==============================] - 0s - loss: 0.8262 - acc: 0.7590 - val_loss: 0.5426 - val_acc: 0.8392\n",
      "Epoch 8/50\n",
      "8629/8629 [==============================] - 0s - loss: 0.7498 - acc: 0.7810 - val_loss: 0.5007 - val_acc: 0.8443\n",
      "Epoch 9/50\n",
      "8629/8629 [==============================] - 0s - loss: 0.6845 - acc: 0.8057 - val_loss: 0.4648 - val_acc: 0.8601\n",
      "Epoch 10/50\n",
      "7936/8629 [==========================>...] - ETA: 0s - loss: 0.6481 - acc: 0.8110Epoch 00009: val_acc improved from -inf to 0.86608, saving model to ../Results/Keras/weights.09-0.8661.hdf5\n",
      "8629/8629 [==============================] - 1s - loss: 0.6406 - acc: 0.8131 - val_loss: 0.4396 - val_acc: 0.8661\n",
      "Epoch 11/50\n",
      "8629/8629 [==============================] - 0s - loss: 0.5796 - acc: 0.8307 - val_loss: 0.4208 - val_acc: 0.8781\n",
      "Epoch 12/50\n",
      "8629/8629 [==============================] - 0s - loss: 0.5509 - acc: 0.8385 - val_loss: 0.4081 - val_acc: 0.8730\n",
      "Epoch 13/50\n",
      "8629/8629 [==============================] - 0s - loss: 0.5130 - acc: 0.8486 - val_loss: 0.3882 - val_acc: 0.8804\n",
      "Epoch 14/50\n",
      "8629/8629 [==============================] - 0s - loss: 0.4795 - acc: 0.8623 - val_loss: 0.3866 - val_acc: 0.8814\n",
      "Epoch 15/50\n",
      "8629/8629 [==============================] - 0s - loss: 0.4539 - acc: 0.8699 - val_loss: 0.3849 - val_acc: 0.8832\n",
      "Epoch 16/50\n",
      "8629/8629 [==============================] - 0s - loss: 0.4399 - acc: 0.8718 - val_loss: 0.3811 - val_acc: 0.8865\n",
      "Epoch 17/50\n",
      "8629/8629 [==============================] - 0s - loss: 0.4159 - acc: 0.8805 - val_loss: 0.3822 - val_acc: 0.8911\n",
      "Epoch 18/50\n",
      "8629/8629 [==============================] - 0s - loss: 0.4162 - acc: 0.8788 - val_loss: 0.3732 - val_acc: 0.8962\n",
      "Epoch 19/50\n",
      "8629/8629 [==============================] - 0s - loss: 0.3938 - acc: 0.8816 - val_loss: 0.3816 - val_acc: 0.8883\n",
      "Epoch 20/50\n",
      "7936/8629 [==========================>...] - ETA: 0s - loss: 0.3887 - acc: 0.8868Epoch 00019: val_acc improved from 0.86608 to 0.89991, saving model to ../Results/Keras/weights.19-0.8999.hdf5\n",
      "8629/8629 [==============================] - 0s - loss: 0.3834 - acc: 0.8868 - val_loss: 0.3580 - val_acc: 0.8999\n",
      "Epoch 21/50\n",
      "8629/8629 [==============================] - 0s - loss: 0.3669 - acc: 0.8965 - val_loss: 0.3435 - val_acc: 0.8981\n",
      "Epoch 22/50\n",
      "8629/8629 [==============================] - 0s - loss: 0.3566 - acc: 0.8983 - val_loss: 0.3549 - val_acc: 0.8920\n",
      "Epoch 23/50\n",
      "8629/8629 [==============================] - 0s - loss: 0.3473 - acc: 0.8986 - val_loss: 0.3608 - val_acc: 0.8976\n",
      "Epoch 24/50\n",
      "8629/8629 [==============================] - 0s - loss: 0.3417 - acc: 0.9016 - val_loss: 0.3559 - val_acc: 0.8971\n",
      "Epoch 25/50\n",
      "8629/8629 [==============================] - 0s - loss: 0.3246 - acc: 0.9028 - val_loss: 0.3517 - val_acc: 0.9045\n",
      "Epoch 26/50\n",
      "8629/8629 [==============================] - 0s - loss: 0.3237 - acc: 0.9023 - val_loss: 0.3546 - val_acc: 0.8985\n",
      "Epoch 27/50\n",
      "8629/8629 [==============================] - 0s - loss: 0.3122 - acc: 0.9044 - val_loss: 0.3478 - val_acc: 0.9041\n",
      "Epoch 28/50\n",
      "8629/8629 [==============================] - 0s - loss: 0.3108 - acc: 0.9068 - val_loss: 0.3439 - val_acc: 0.8962\n",
      "Epoch 29/50\n",
      "8629/8629 [==============================] - 0s - loss: 0.3046 - acc: 0.9064 - val_loss: 0.3501 - val_acc: 0.8953\n",
      "Epoch 30/50\n",
      "7936/8629 [==========================>...] - ETA: 0s - loss: 0.2923 - acc: 0.9122Epoch 00029: val_acc improved from 0.89991 to 0.90593, saving model to ../Results/Keras/weights.29-0.9059.hdf5\n",
      "8629/8629 [==============================] - 0s - loss: 0.2907 - acc: 0.9122 - val_loss: 0.3352 - val_acc: 0.9059\n",
      "Epoch 31/50\n",
      "8629/8629 [==============================] - 0s - loss: 0.2817 - acc: 0.9139 - val_loss: 0.3402 - val_acc: 0.9022\n",
      "Epoch 32/50\n",
      "8629/8629 [==============================] - 0s - loss: 0.2751 - acc: 0.9196 - val_loss: 0.3501 - val_acc: 0.9022\n",
      "Epoch 33/50\n",
      "8629/8629 [==============================] - 0s - loss: 0.2705 - acc: 0.9154 - val_loss: 0.3497 - val_acc: 0.9027\n",
      "Epoch 34/50\n",
      "8629/8629 [==============================] - 0s - loss: 0.2680 - acc: 0.9192 - val_loss: 0.3495 - val_acc: 0.9004\n",
      "Epoch 35/50\n",
      "8629/8629 [==============================] - 0s - loss: 0.2723 - acc: 0.9169 - val_loss: 0.3830 - val_acc: 0.8967\n",
      "Epoch 36/50\n",
      "8629/8629 [==============================] - 0s - loss: 0.2647 - acc: 0.9226 - val_loss: 0.3472 - val_acc: 0.9027\n",
      "Epoch 37/50\n",
      "8629/8629 [==============================] - 0s - loss: 0.2426 - acc: 0.9263 - val_loss: 0.3573 - val_acc: 0.9022\n",
      "Epoch 38/50\n",
      "8629/8629 [==============================] - 0s - loss: 0.2552 - acc: 0.9244 - val_loss: 0.3640 - val_acc: 0.9050\n",
      "Epoch 39/50\n",
      "8629/8629 [==============================] - 0s - loss: 0.2462 - acc: 0.9268 - val_loss: 0.3540 - val_acc: 0.9045\n",
      "Epoch 40/50\n",
      "8448/8629 [============================>.] - ETA: 0s - loss: 0.2340 - acc: 0.9289Epoch 00039: val_acc did not improve\n",
      "8629/8629 [==============================] - 0s - loss: 0.2356 - acc: 0.9283 - val_loss: 0.3560 - val_acc: 0.9041\n",
      "Epoch 41/50\n",
      "8629/8629 [==============================] - 0s - loss: 0.2348 - acc: 0.9279 - val_loss: 0.3698 - val_acc: 0.9082\n",
      "Epoch 42/50\n",
      "8629/8629 [==============================] - 0s - loss: 0.2387 - acc: 0.9269 - val_loss: 0.3606 - val_acc: 0.9008\n",
      "Epoch 43/50\n",
      "8629/8629 [==============================] - 0s - loss: 0.2209 - acc: 0.9300 - val_loss: 0.3515 - val_acc: 0.9106\n",
      "Epoch 44/50\n",
      "8629/8629 [==============================] - 0s - loss: 0.2292 - acc: 0.9294 - val_loss: 0.3814 - val_acc: 0.9022\n",
      "Epoch 45/50\n",
      "8629/8629 [==============================] - 0s - loss: 0.2297 - acc: 0.9276 - val_loss: 0.3661 - val_acc: 0.9059\n",
      "Epoch 46/50\n",
      "8629/8629 [==============================] - 0s - loss: 0.2196 - acc: 0.9316 - val_loss: 0.3570 - val_acc: 0.9078\n",
      "Epoch 47/50\n",
      "8629/8629 [==============================] - 0s - loss: 0.2163 - acc: 0.9329 - val_loss: 0.3587 - val_acc: 0.9055\n",
      "Epoch 48/50\n",
      "8629/8629 [==============================] - 0s - loss: 0.2192 - acc: 0.9328 - val_loss: 0.3576 - val_acc: 0.9101\n",
      "Epoch 49/50\n",
      "8629/8629 [==============================] - 0s - loss: 0.2092 - acc: 0.9351 - val_loss: 0.3657 - val_acc: 0.9082\n",
      "Epoch 50/50\n",
      "8448/8629 [============================>.] - ETA: 0s - loss: 0.2014 - acc: 0.9399Epoch 00049: val_acc improved from 0.90593 to 0.90825, saving model to ../Results/Keras/weights.49-0.9082.hdf5\n",
      "8629/8629 [==============================] - 0s - loss: 0.2023 - acc: 0.9392 - val_loss: 0.3673 - val_acc: 0.9082\n"
     ]
    },
    {
     "data": {
      "text/plain": [
       "<keras.callbacks.History at 0x1361e39b0>"
      ]
     },
     "execution_count": 131,
     "metadata": {},
     "output_type": "execute_result"
    }
   ],
   "source": [
    "# Train Model\n",
    "save_path = '../Results/Keras/' + 'weights.{epoch:02d}-{val_acc:.4f}.hdf5'\n",
    "checkpointer = ModelCheckpoint(filepath=save_path,\n",
    "                               verbose=1,\n",
    "                               monitor='val_acc',\n",
    "                               save_best_only=True,\n",
    "                               mode='auto',\n",
    "                               period=10)\n",
    "\n",
    "network.fit(x=x_train.as_matrix(),\n",
    "            y=y_train.as_matrix(),\n",
    "            epochs=N_EPOCHS,\n",
    "            batch_size=N_BATCHES,\n",
    "            shuffle=True,\n",
    "            validation_data=(x_test.as_matrix(), y_test.as_matrix()),\n",
    "            callbacks=[checkpointer])\n",
    "\n",
    "# TODO: Use Callback function for our network!"
   ]
  },
  {
   "cell_type": "code",
   "execution_count": 112,
   "metadata": {},
   "outputs": [
    {
     "ename": "ImportError",
     "evalue": "Failed to import pydot. You must install pydot and graphviz for `pydotprint` to work.",
     "output_type": "error",
     "traceback": [
      "\u001b[0;31m---------------------------------------------------------------------------\u001b[0m",
      "\u001b[0;31mAttributeError\u001b[0m                            Traceback (most recent call last)",
      "\u001b[0;32m/Users/Future/anaconda/lib/python3.6/site-packages/keras/utils/vis_utils.py\u001b[0m in \u001b[0;36m_check_pydot\u001b[0;34m()\u001b[0m\n\u001b[1;32m     22\u001b[0m \u001b[0;34m\u001b[0m\u001b[0m\n\u001b[0;32m---> 23\u001b[0;31m \u001b[0;32mdef\u001b[0m \u001b[0m_check_pydot\u001b[0m\u001b[0;34m(\u001b[0m\u001b[0;34m)\u001b[0m\u001b[0;34m:\u001b[0m\u001b[0;34m\u001b[0m\u001b[0m\n\u001b[0m\u001b[1;32m     24\u001b[0m     \u001b[0;32mtry\u001b[0m\u001b[0;34m:\u001b[0m\u001b[0;34m\u001b[0m\u001b[0m\n",
      "\u001b[0;31mAttributeError\u001b[0m: 'NoneType' object has no attribute 'Dot'",
      "\nDuring handling of the above exception, another exception occurred:\n",
      "\u001b[0;31mImportError\u001b[0m                               Traceback (most recent call last)",
      "\u001b[0;32m<ipython-input-112-46f73a2b3db9>\u001b[0m in \u001b[0;36m<module>\u001b[0;34m()\u001b[0m\n\u001b[0;32m----> 1\u001b[0;31m \u001b[0mkeras\u001b[0m\u001b[0;34m.\u001b[0m\u001b[0mutils\u001b[0m\u001b[0;34m.\u001b[0m\u001b[0mplot_model\u001b[0m\u001b[0;34m(\u001b[0m\u001b[0mnetwork\u001b[0m\u001b[0;34m,\u001b[0m \u001b[0mto_file\u001b[0m\u001b[0;34m=\u001b[0m\u001b[0;34m'model.png'\u001b[0m\u001b[0;34m,\u001b[0m \u001b[0mshow_shapes\u001b[0m\u001b[0;34m=\u001b[0m\u001b[0;32mFalse\u001b[0m\u001b[0;34m,\u001b[0m \u001b[0mshow_layer_names\u001b[0m\u001b[0;34m=\u001b[0m\u001b[0;32mTrue\u001b[0m\u001b[0;34m,\u001b[0m \u001b[0mrankdir\u001b[0m\u001b[0;34m=\u001b[0m\u001b[0;34m'TB'\u001b[0m\u001b[0;34m)\u001b[0m\u001b[0;34m\u001b[0m\u001b[0m\n\u001b[0m",
      "\u001b[0;32m/Users/Future/anaconda/lib/python3.6/site-packages/keras/utils/vis_utils.py\u001b[0m in \u001b[0;36mplot_model\u001b[0;34m(model, to_file, show_shapes, show_layer_names, rankdir)\u001b[0m\n\u001b[1;32m    129\u001b[0m         \u001b[0mshow_layer_names\u001b[0m\u001b[0;34m:\u001b[0m \u001b[0mwhether\u001b[0m \u001b[0mto\u001b[0m \u001b[0mdisplay\u001b[0m \u001b[0mlayer\u001b[0m \u001b[0mnames\u001b[0m\u001b[0;34m.\u001b[0m\u001b[0;34m\u001b[0m\u001b[0m\n\u001b[1;32m    130\u001b[0m         \u001b[0mrankdir\u001b[0m\u001b[0;34m:\u001b[0m\u001b[0;31m \u001b[0m\u001b[0;31m`\u001b[0m\u001b[0mrankdir\u001b[0m\u001b[0;31m`\u001b[0m \u001b[0margument\u001b[0m \u001b[0mpassed\u001b[0m \u001b[0mto\u001b[0m \u001b[0mPyDot\u001b[0m\u001b[0;34m,\u001b[0m\u001b[0;34m\u001b[0m\u001b[0m\n\u001b[0;32m--> 131\u001b[0;31m             \u001b[0ma\u001b[0m \u001b[0mstring\u001b[0m \u001b[0mspecifying\u001b[0m \u001b[0mthe\u001b[0m \u001b[0mformat\u001b[0m \u001b[0mof\u001b[0m \u001b[0mthe\u001b[0m \u001b[0mplot\u001b[0m\u001b[0;34m:\u001b[0m\u001b[0;34m\u001b[0m\u001b[0m\n\u001b[0m\u001b[1;32m    132\u001b[0m             \u001b[0;34m'TB'\u001b[0m \u001b[0mcreates\u001b[0m \u001b[0ma\u001b[0m \u001b[0mvertical\u001b[0m \u001b[0mplot\u001b[0m\u001b[0;34m;\u001b[0m\u001b[0;34m\u001b[0m\u001b[0m\n\u001b[1;32m    133\u001b[0m             \u001b[0;34m'LR'\u001b[0m \u001b[0mcreates\u001b[0m \u001b[0ma\u001b[0m \u001b[0mhorizontal\u001b[0m \u001b[0mplot\u001b[0m\u001b[0;34m.\u001b[0m\u001b[0;34m\u001b[0m\u001b[0m\n",
      "\u001b[0;32m/Users/Future/anaconda/lib/python3.6/site-packages/keras/utils/vis_utils.py\u001b[0m in \u001b[0;36mmodel_to_dot\u001b[0;34m(model, show_shapes, show_layer_names, rankdir)\u001b[0m\n\u001b[1;32m     50\u001b[0m     \u001b[0;31m# Returns\u001b[0m\u001b[0;34m\u001b[0m\u001b[0;34m\u001b[0m\u001b[0m\n\u001b[1;32m     51\u001b[0m         \u001b[0mA\u001b[0m\u001b[0;31m \u001b[0m\u001b[0;31m`\u001b[0m\u001b[0mpydot\u001b[0m\u001b[0;34m.\u001b[0m\u001b[0mDot\u001b[0m\u001b[0;31m`\u001b[0m \u001b[0minstance\u001b[0m \u001b[0mrepresenting\u001b[0m \u001b[0mthe\u001b[0m \u001b[0mKeras\u001b[0m \u001b[0mmodel\u001b[0m\u001b[0;34m.\u001b[0m\u001b[0;34m\u001b[0m\u001b[0m\n\u001b[0;32m---> 52\u001b[0;31m     \"\"\"\n\u001b[0m\u001b[1;32m     53\u001b[0m     \u001b[0;32mfrom\u001b[0m \u001b[0;34m.\u001b[0m\u001b[0;34m.\u001b[0m\u001b[0mlayers\u001b[0m\u001b[0;34m.\u001b[0m\u001b[0mwrappers\u001b[0m \u001b[0;32mimport\u001b[0m \u001b[0mWrapper\u001b[0m\u001b[0;34m\u001b[0m\u001b[0m\n\u001b[1;32m     54\u001b[0m     \u001b[0;32mfrom\u001b[0m \u001b[0;34m.\u001b[0m\u001b[0;34m.\u001b[0m\u001b[0mmodels\u001b[0m \u001b[0;32mimport\u001b[0m \u001b[0mSequential\u001b[0m\u001b[0;34m\u001b[0m\u001b[0m\n",
      "\u001b[0;32m/Users/Future/anaconda/lib/python3.6/site-packages/keras/utils/vis_utils.py\u001b[0m in \u001b[0;36m_check_pydot\u001b[0;34m()\u001b[0m\n\u001b[1;32m     25\u001b[0m         \u001b[0;31m# Attempt to create an image of a blank graph\u001b[0m\u001b[0;34m\u001b[0m\u001b[0;34m\u001b[0m\u001b[0m\n\u001b[1;32m     26\u001b[0m         \u001b[0;31m# to check the pydot/graphviz installation.\u001b[0m\u001b[0;34m\u001b[0m\u001b[0;34m\u001b[0m\u001b[0m\n\u001b[0;32m---> 27\u001b[0;31m         \u001b[0mpydot\u001b[0m\u001b[0;34m.\u001b[0m\u001b[0mDot\u001b[0m\u001b[0;34m.\u001b[0m\u001b[0mcreate\u001b[0m\u001b[0;34m(\u001b[0m\u001b[0mpydot\u001b[0m\u001b[0;34m.\u001b[0m\u001b[0mDot\u001b[0m\u001b[0;34m(\u001b[0m\u001b[0;34m)\u001b[0m\u001b[0;34m)\u001b[0m\u001b[0;34m\u001b[0m\u001b[0m\n\u001b[0m\u001b[1;32m     28\u001b[0m     \u001b[0;32mexcept\u001b[0m \u001b[0mException\u001b[0m\u001b[0;34m:\u001b[0m\u001b[0;34m\u001b[0m\u001b[0m\n\u001b[1;32m     29\u001b[0m         \u001b[0;31m# pydot raises a generic Exception here,\u001b[0m\u001b[0;34m\u001b[0m\u001b[0;34m\u001b[0m\u001b[0m\n",
      "\u001b[0;31mImportError\u001b[0m: Failed to import pydot. You must install pydot and graphviz for `pydotprint` to work."
     ]
    }
   ],
   "source": [
    "# keras.utils.plot_model(network, to_file='model.png', show_shapes=False, show_layer_names=True, rankdir='TB')"
   ]
  },
  {
   "cell_type": "code",
   "execution_count": 109,
   "metadata": {},
   "outputs": [
    {
     "data": {
      "text/plain": [
       "b\"%!PS-Adobe-3.0\\n%%Creator: graphviz version 2.40.1 (20161225.0304)\\n%%Title: G\\n%%Pages: (atend)\\n%%BoundingBox: (atend)\\n%%EndComments\\nsave\\n%%BeginProlog\\n/DotDict 200 dict def\\nDotDict begin\\n\\n/setupLatin1 {\\nmark\\n/EncodingVector 256 array def\\n EncodingVector 0\\n\\nISOLatin1Encoding 0 255 getinterval putinterval\\nEncodingVector 45 /hyphen put\\n\\n% Set up ISO Latin 1 character encoding\\n/starnetISO {\\n        dup dup findfont dup length dict begin\\n        { 1 index /FID ne { def }{ pop pop } ifelse\\n        } forall\\n        /Encoding EncodingVector def\\n        currentdict end definefont\\n} def\\n/Times-Roman starnetISO def\\n/Times-Italic starnetISO def\\n/Times-Bold starnetISO def\\n/Times-BoldItalic starnetISO def\\n/Helvetica starnetISO def\\n/Helvetica-Oblique starnetISO def\\n/Helvetica-Bold starnetISO def\\n/Helvetica-BoldOblique starnetISO def\\n/Courier starnetISO def\\n/Courier-Oblique starnetISO def\\n/Courier-Bold starnetISO def\\n/Courier-BoldOblique starnetISO def\\ncleartomark\\n} bind def\\n\\n%%BeginResource: procset graphviz 0 0\\n/coord-font-family /Times-Roman def\\n/default-font-family /Times-Roman def\\n/coordfont coord-font-family findfont 8 scalefont def\\n\\n/InvScaleFactor 1.0 def\\n/set_scale {\\n       dup 1 exch div /InvScaleFactor exch def\\n       scale\\n} bind def\\n\\n% styles\\n/solid { [] 0 setdash } bind def\\n/dashed { [9 InvScaleFactor mul dup ] 0 setdash } bind def\\n/dotted { [1 InvScaleFactor mul 6 InvScaleFactor mul] 0 setdash } bind def\\n/invis {/fill {newpath} def /stroke {newpath} def /show {pop newpath} def} bind def\\n/bold { 2 setlinewidth } bind def\\n/filled { } bind def\\n/unfilled { } bind def\\n/rounded { } bind def\\n/diagonals { } bind def\\n/tapered { } bind def\\n\\n% hooks for setting color \\n/nodecolor { sethsbcolor } bind def\\n/edgecolor { sethsbcolor } bind def\\n/graphcolor { sethsbcolor } bind def\\n/nopcolor {pop pop pop} bind def\\n\\n/beginpage {\\t% i j npages\\n\\t/npages exch def\\n\\t/j exch def\\n\\t/i exch def\\n\\t/str 10 string def\\n\\tnpages 1 gt {\\n\\t\\tgsave\\n\\t\\t\\tcoordfont setfont\\n\\t\\t\\t0 0 moveto\\n\\t\\t\\t(\\\\() show i str cvs show (,) show j str cvs show (\\\\)) show\\n\\t\\tgrestore\\n\\t} if\\n} bind def\\n\\n/set_font {\\n\\tfindfont exch\\n\\tscalefont setfont\\n} def\\n\\n% draw text fitted to its expected width\\n/alignedtext {\\t\\t\\t% width text\\n\\t/text exch def\\n\\t/width exch def\\n\\tgsave\\n\\t\\twidth 0 gt {\\n\\t\\t\\t[] 0 setdash\\n\\t\\t\\ttext stringwidth pop width exch sub text length div 0 text ashow\\n\\t\\t} if\\n\\tgrestore\\n} def\\n\\n/boxprim {\\t\\t\\t\\t% xcorner ycorner xsize ysize\\n\\t\\t4 2 roll\\n\\t\\tmoveto\\n\\t\\t2 copy\\n\\t\\texch 0 rlineto\\n\\t\\t0 exch rlineto\\n\\t\\tpop neg 0 rlineto\\n\\t\\tclosepath\\n} bind def\\n\\n/ellipse_path {\\n\\t/ry exch def\\n\\t/rx exch def\\n\\t/y exch def\\n\\t/x exch def\\n\\tmatrix currentmatrix\\n\\tnewpath\\n\\tx y translate\\n\\trx ry scale\\n\\t0 0 1 0 360 arc\\n\\tsetmatrix\\n} bind def\\n\\n/endpage { showpage } bind def\\n/showpage { } def\\n\\n/layercolorseq\\n\\t[\\t% layer color sequence - darkest to lightest\\n\\t\\t[0 0 0]\\n\\t\\t[.2 .8 .8]\\n\\t\\t[.4 .8 .8]\\n\\t\\t[.6 .8 .8]\\n\\t\\t[.8 .8 .8]\\n\\t]\\ndef\\n\\n/layerlen layercolorseq length def\\n\\n/setlayer {/maxlayer exch def /curlayer exch def\\n\\tlayercolorseq curlayer 1 sub layerlen mod get\\n\\taload pop sethsbcolor\\n\\t/nodecolor {nopcolor} def\\n\\t/edgecolor {nopcolor} def\\n\\t/graphcolor {nopcolor} def\\n} bind def\\n\\n/onlayer { curlayer ne {invis} if } def\\n\\n/onlayers {\\n\\t/myupper exch def\\n\\t/mylower exch def\\n\\tcurlayer mylower lt\\n\\tcurlayer myupper gt\\n\\tor\\n\\t{invis} if\\n} def\\n\\n/curlayer 0 def\\n\\n%%EndResource\\n%%EndProlog\\n%%BeginSetup\\n14 default-font-family set_font\\n% /arrowlength 10 def\\n% /arrowwidth 5 def\\n\\n% make sure pdfmark is harmless for PS-interpreters other than Distiller\\n/pdfmark where {pop} {userdict /pdfmark /cleartomark load put} ifelse\\n% make '<<' and '>>' safe on PS Level 1 devices\\n/languagelevel where {pop languagelevel}{1} ifelse\\n2 lt {\\n    userdict (<<) cvn ([) cvn load put\\n    userdict (>>) cvn ([) cvn load put\\n} if\\n\\n%%EndSetup\\nsetupLatin1\\n%%Page: 1 1\\n%%PageBoundingBox: 36 36 44 44\\n%%PageOrientation: Portrait\\n0 0 1 beginpage\\ngsave\\n36 36 8 8 boxprim clip newpath\\n1 1 set_scale 0 rotate 40 40 translate\\nendpage\\nshowpage\\ngrestore\\n%%PageTrailer\\n%%EndPage: 1\\n%%Trailer\\n%%Pages: 1\\n%%BoundingBox: 36 36 44 44\\nend\\nrestore\\n%%EOF\\n\""
      ]
     },
     "execution_count": 109,
     "metadata": {},
     "output_type": "execute_result"
    }
   ],
   "source": []
  }
 ],
 "metadata": {
  "kernelspec": {
   "display_name": "Python 3",
   "language": "python",
   "name": "python3"
  },
  "language_info": {
   "codemirror_mode": {
    "name": "ipython",
    "version": 3
   },
   "file_extension": ".py",
   "mimetype": "text/x-python",
   "name": "python",
   "nbconvert_exporter": "python",
   "pygments_lexer": "ipython3",
   "version": "3.6.0"
  }
 },
 "nbformat": 4,
 "nbformat_minor": 2
}
